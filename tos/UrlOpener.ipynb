{
 "metadata": {
  "name": "",
  "signature": "sha256:ce2dff407725161dab8e9c10c70d4b33c60741ca955436cec885152731f40c31"
 },
 "nbformat": 3,
 "nbformat_minor": 0,
 "worksheets": [
  {
   "cells": [
    {
     "cell_type": "markdown",
     "metadata": {},
     "source": [
      "# Holly opener"
     ]
    },
    {
     "cell_type": "code",
     "collapsed": false,
     "input": [
      "import requests\n",
      "import xml.dom.minidom\n",
      "\n",
      "def getUrl(doi):\n",
      "    url = 'http://dx.doi.org'\n",
      "    values = {'hdl': doi}\n",
      "    res = requests.post(url, values, allow_redirects=False)\n",
      "    dom = xml.dom.minidom.parseString(res.text)\n",
      "    ancor = dom.getElementsByTagName('A').pop()\n",
      "    return ancor.getAttribute('HREF')\n"
     ],
     "language": "python",
     "metadata": {},
     "outputs": [],
     "prompt_number": 1
    },
    {
     "cell_type": "code",
     "collapsed": false,
     "input": [
      "import subprocess\n",
      "\n",
      "def openUrl(url):\n",
      "    subprocess.call(['xdg-open', url])\n"
     ],
     "language": "python",
     "metadata": {},
     "outputs": [],
     "prompt_number": 2
    },
    {
     "cell_type": "code",
     "collapsed": false,
     "input": [
      "from tos.interpreters import IsiInterpreter\n",
      "from tos.graph.tree_of_science import TreeOfScience\n",
      "\n",
      "WoK838 = TreeOfScience(IsiInterpreter(), {'data': open('/home/oscar/Downloads/WoK 838 Oscar.txt', 'r').read()})\n",
      "WoK181 = TreeOfScience(IsiInterpreter(), {'data': open('/home/oscar/Downloads/WoK 181 Oscar.txt', 'r').read()})\n"
     ],
     "language": "python",
     "metadata": {},
     "outputs": [],
     "prompt_number": 3
    },
    {
     "cell_type": "code",
     "collapsed": false,
     "input": [
      "def extractDoi(label):\n",
      "    doi = label.split(', ')[-1]\n",
      "    if not 'DOI' in doi:\n",
      "        return ''\n",
      "    else:\n",
      "        return doi.split(' ')[-1]\n"
     ],
     "language": "python",
     "metadata": {},
     "outputs": [],
     "prompt_number": 4
    },
    {
     "cell_type": "code",
     "collapsed": false,
     "input": [
      "labels = WoK838.root()['label']\n",
      "print(labels)\n",
      "dois = list(map(extractDoi, labels))\n",
      "print(dois)\n",
      "urls = list(map(getUrl, dois))\n",
      "print(urls)\n",
      "list(map(openUrl, urls))"
     ],
     "language": "python",
     "metadata": {},
     "outputs": [
      {
       "output_type": "stream",
       "stream": "stdout",
       "text": [
        "['White RL, 1997, IEEE T MAGN, V33, P990, DOI 10.1109/20.560144', 'Richter HJ, 2006, APPL PHYS LETT, V88, DOI 10.1063/1.2209179', 'Ross C, 2001, ANN REV MATER RES, V31, P203, DOI 10.1146/annurev.matsci.31.1.203', 'Weller D, 1999, IEEE T MAGN, V35, P4423, DOI 10.1109/20.809134', 'Chappert C, 1998, SCIENCE, V280, P1919, DOI 10.1126/science.280.5371.1919', 'Thomson T, 2006, PHYS REV LETT, V96, DOI 10.1103/PhysRevLett.96.257204', 'Ruiz R, 2008, SCIENCE, V321, P936, DOI 10.1126/science.1157626', 'Victora RH, 2005, IEEE T MAGN, V41, P537, DOI 10.1109/TMAG.2004.838075', 'Charap SH, 1997, IEEE T MAGN, V33, P978, DOI 10.1109/20.560142', 'Hellwig O, 2007, APPL PHYS LETT, V90, DOI 10.1063/1.2730744']\n",
        "['10.1109/20.560144', '10.1063/1.2209179', '10.1146/annurev.matsci.31.1.203', '10.1109/20.809134', '10.1126/science.280.5371.1919', '10.1103/PhysRevLett.96.257204', '10.1126/science.1157626', '10.1109/TMAG.2004.838075', '10.1109/20.560142', '10.1063/1.2730744']\n",
        "['http://ieeexplore.ieee.org/lpdocs/epic03/wrapper.htm?arnumber=560144', 'http://scitation.aip.org/content/aip/journal/apl/88/22/10.1063/1.2209179', 'http://www.annualreviews.org/doi/abs/10.1146/annurev.matsci.31.1.203', 'http://ieeexplore.ieee.org/lpdocs/epic03/wrapper.htm?arnumber=809134', 'http://www.sciencemag.org/cgi/doi/10.1126/science.280.5371.1919', 'http://link.aps.org/doi/10.1103/PhysRevLett.96.257204', 'http://www.sciencemag.org/cgi/doi/10.1126/science.1157626', 'http://ieeexplore.ieee.org/lpdocs/epic03/wrapper.htm?arnumber=1396176', 'http://ieeexplore.ieee.org/lpdocs/epic03/wrapper.htm?arnumber=560142', 'http://scitation.aip.org/content/aip/journal/apl/90/16/10.1063/1.2730744']"
       ]
      },
      {
       "output_type": "stream",
       "stream": "stdout",
       "text": [
        "\n"
       ]
      },
      {
       "metadata": {},
       "output_type": "pyout",
       "prompt_number": 21,
       "text": [
        "[None, None, None, None, None, None, None, None, None, None]"
       ]
      }
     ],
     "prompt_number": 21
    },
    {
     "cell_type": "code",
     "collapsed": false,
     "input": [
      "labels = WoK181.root()['label']\n",
      "print(labels)\n",
      "dois = list(map(extractDoi, labels))\n",
      "print(dois)\n",
      "urls = list(map(getUrl, dois))\n",
      "print(urls)\n",
      "list(map(openUrl, urls))"
     ],
     "language": "python",
     "metadata": {},
     "outputs": [
      {
       "output_type": "stream",
       "stream": "stdout",
       "text": [
        "['White RL, 1997, IEEE T MAGN, V33, P990, DOI 10.1109/20.560144', 'Terris BD, 2005, J PHYS D APPL PHYS, V38, pR199, DOI 10.1088/0022-3727/38/12/R01', 'Richter HJ, 2006, APPL PHYS LETT, V88, DOI 10.1063/1.2209179', 'Thomson T, 2006, PHYS REV LETT, V96, DOI 10.1103/PhysRevLett.96.257204', 'Hellwig O, 2007, APPL PHYS LETT, V90, DOI 10.1063/1.2730744', 'Ross C, 2001, ANN REV MATER RES, V31, P203, DOI 10.1146/annurev.matsci.31.1.203', 'Victora RH, 2005, IEEE T MAGN, V41, P537, DOI 10.1109/TMAG.2004.838075', 'Weller D, 1999, IEEE T MAGN, V35, P4423, DOI 10.1109/20.809134', 'Ruiz R, 2008, SCIENCE, V321, P936, DOI 10.1126/science.1157626', 'Albrecht M, 2002, APPL PHYS LETT, V81, P2875, DOI 10.1063/1.1512946']\n",
        "['10.1109/20.560144', '10.1088/0022-3727/38/12/R01', '10.1063/1.2209179', '10.1103/PhysRevLett.96.257204', '10.1063/1.2730744', '10.1146/annurev.matsci.31.1.203', '10.1109/TMAG.2004.838075', '10.1109/20.809134', '10.1126/science.1157626', '10.1063/1.1512946']\n",
        "['http://ieeexplore.ieee.org/lpdocs/epic03/wrapper.htm?arnumber=560144', 'http://stacks.iop.org/0022-3727/38/i=12/a=R01?key=crossref.cca091e2adad8b35e4a41e8f59e2e527', 'http://scitation.aip.org/content/aip/journal/apl/88/22/10.1063/1.2209179', 'http://link.aps.org/doi/10.1103/PhysRevLett.96.257204', 'http://scitation.aip.org/content/aip/journal/apl/90/16/10.1063/1.2730744', 'http://www.annualreviews.org/doi/abs/10.1146/annurev.matsci.31.1.203', 'http://ieeexplore.ieee.org/lpdocs/epic03/wrapper.htm?arnumber=1396176', 'http://ieeexplore.ieee.org/lpdocs/epic03/wrapper.htm?arnumber=809134', 'http://www.sciencemag.org/cgi/doi/10.1126/science.1157626', 'http://scitation.aip.org/content/aip/journal/apl/81/15/10.1063/1.1512946']"
       ]
      },
      {
       "output_type": "stream",
       "stream": "stdout",
       "text": [
        "\n"
       ]
      },
      {
       "metadata": {},
       "output_type": "pyout",
       "prompt_number": 5,
       "text": [
        "[None, None, None, None, None, None, None, None, None, None]"
       ]
      }
     ],
     "prompt_number": 5
    }
   ],
   "metadata": {}
  }
 ]
}